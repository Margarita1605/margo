{
 "cells": [
  {
   "cell_type": "markdown",
   "id": "3fdfe89f",
   "metadata": {},
   "source": [
    "# Раздел 2"
   ]
  },
  {
   "cell_type": "markdown",
   "id": "4505d043",
   "metadata": {},
   "source": [
    "### Задание 2.1"
   ]
  },
  {
   "cell_type": "code",
   "execution_count": 49,
   "id": "f2d2ac94",
   "metadata": {},
   "outputs": [
    {
     "name": "stdout",
     "output_type": "stream",
     "text": [
      "   heights  weights  ages\n",
      "0      188       86    58\n",
      "1      172       71    61\n",
      "2      187       89    54\n",
      "    heights  weights  ages\n",
      "42      156       82    54\n",
      "43      185       85    47\n",
      "44      199      110    38\n",
      "heights    199\n",
      "weights    110\n",
      "ages        64\n",
      "dtype: int64\n"
     ]
    }
   ],
   "source": [
    "import pandas as pd \n",
    "\n",
    "heights = [188, 172, 187, 161, 183, 172, 185, 163, 173, 183, 174, 174, 175,\n",
    "178, 183, 195, 178, 173, 174, 183, 174, 181, 162, 180, 170, 175, 182, 180, 183,\n",
    "178, 182, 188, 175, 179, 184, 193, 182, 183, 175, 185, 182, 183, 156, 185, 199] \n",
    "weights = [86, 71, 89, 64, 83, 71, 86, 68, 73, 84, 73, 72, 75, 78, 85, 93, 78,\n",
    "70, 74, 80, 83, 82, 68, 80, 73, 78, 82, 81, 83, 79, 82, 86, 76, 77, 80, 103,\n",
    "82, 83, 77, 89, 80, 85, 82, 85, 110] \n",
    "ages = [58, 61, 54, 54, 58, 57, 63, 54, 37, 51, 34, 26, 50, 48, 45, 52, 56,\n",
    "46, 54, 28, 52, 47, 55, 55, 54, 42, 51, 56, 55, 51, 54, 32, 21, 62, 43, 55,\n",
    "56, 61, 53, 22, 64, 45, 54, 47, 38]\n",
    "\n",
    "data = {'heights': heights, 'weights': weights, 'ages': ages}\n",
    "\n",
    "df = pd.DataFrame(data)\n",
    "\n",
    "print(df.head(3)) # 3 первых строки \n",
    "print(df.tail(3)) # 3 последних строки\n",
    "\n",
    "maxdf=df.max() \n",
    "mindf=df.min()\n",
    "print(maxdf)"
   ]
  },
  {
   "attachments": {},
   "cell_type": "markdown",
   "id": "187559fe",
   "metadata": {},
   "source": [
    "### Задание 2.2"
   ]
  },
  {
   "cell_type": "code",
   "execution_count": 50,
   "id": "f36a7f62",
   "metadata": {},
   "outputs": [
    {
     "name": "stdout",
     "output_type": "stream",
     "text": [
      "   heights  weights  ages\n",
      "0      188       86    58\n",
      "1      172       71    61\n",
      "2      187       89    54\n",
      "    heights  weights  ages\n",
      "42      156       82    54\n",
      "43      185       85    47\n",
      "44      199      110    38\n",
      "max heights   -199\n",
      "weights   -110\n",
      "ages       -64\n",
      "dtype: int64\n",
      "min heights   -156\n",
      "weights    -64\n",
      "ages       -21\n",
      "dtype: int64\n",
      "Средне значение с мин heights    178.888889\n",
      "weights     80.422222\n",
      "ages        49.133333\n",
      "dtype: float64\n",
      "сумма чисел heights    8050\n",
      "weights    3619\n",
      "ages       2211\n",
      "dtype: int64\n",
      "длина  45\n",
      "среднее значение без мин ages  49.13333333333333\n",
      "сумма чисел 3619\n",
      "длина  45\n",
      "среднее значение без мин wei  80.42222222222222\n",
      "сумма чисел 8050\n",
      "длина  45\n",
      "среднее значение без мин hei  178.88888888888889\n",
      " медиана heights    180.0\n",
      "weights     80.0\n",
      "ages        53.0\n",
      "dtype: float64\n",
      " стандартное откл  heights     8.501931\n",
      "weights     8.438249\n",
      "ages       10.674098\n",
      "dtype: float64\n"
     ]
    }
   ],
   "source": [
    "\n",
    "import pandas as pd \n",
    "\n",
    "heights = [188, 172, 187, 161, 183, 172, 185, 163, 173, 183, 174, 174, 175,\n",
    "178, 183, 195, 178, 173, 174, 183, 174, 181, 162, 180, 170, 175, 182, 180, 183,\n",
    "178, 182, 188, 175, 179, 184, 193, 182, 183, 175, 185, 182, 183, 156, 185, 199] \n",
    "weights = [86, 71, 89, 64, 83, 71, 86, 68, 73, 84, 73, 72, 75, 78, 85, 93, 78,\n",
    "70, 74, 80, 83, 82, 68, 80, 73, 78, 82, 81, 83, 79, 82, 86, 76, 77, 80, 103,\n",
    "82, 83, 77, 89, 80, 85, 82, 85, 110] \n",
    "ages = [58, 61, 54, 54, 58, 57, 63, 54, 37, 51, 34, 26, 50, 48, 45, 52, 56,\n",
    "46, 54, 28, 52, 47, 55, 55, 54, 42, 51, 56, 55, 51, 54, 32, 21, 62, 43, 55,\n",
    "56, 61, 53, 22, 64, 45, 54, 47, 38]\n",
    "\n",
    "data = {'heights': heights, 'weights': weights, 'ages': ages}\n",
    "\n",
    "df = pd.DataFrame(data)\n",
    "\n",
    "print(df.head(3)) # 3 первых строки \n",
    "print(df.tail(3)) # 3 последних строки\n",
    "\n",
    "maxdf=df.max() \n",
    "mindf=df.min()\n",
    "print('max',-maxdf)\n",
    "print('min',-mindf)\n",
    "sred_mea=df.mean()\n",
    "print('Средне значение с мин', sred_mea)\n",
    "\n",
    "sum_ag=sum(ages)\n",
    "print('сумма чисел',sum_chis)\n",
    "dlina_ag=len(ages)\n",
    "sred_ag=sum_ag/dlina_ag\n",
    "print('длина ',dlina_ag)\n",
    "print('среднее значение без мин ages ',sred_ag)\n",
    "\n",
    "sum_wei=sum(weights)\n",
    "print('сумма чисел',sum_wei)\n",
    "dlina_wei=len(weights)\n",
    "sred_wei=sum_wei/dlina_wei\n",
    "print('длина ',dlina_wei)\n",
    "print('среднее значение без мин wei ',sred_wei)\n",
    "\n",
    "sum_hei=sum(heights)\n",
    "print('сумма чисел',sum_hei)\n",
    "dlina_hei=len(heights)\n",
    "sred_hei=sum_hei/dlina_hei\n",
    "print('длина ',dlina_hei)\n",
    "print('среднее значение без мин hei ',sred_hei)\n",
    "\n",
    "mediannn=df.median()\n",
    "print(' медиана',mediannn)\n",
    "\n",
    "stand=df.std()\n",
    "print(' стандартное откл ',stand)"
   ]
  },
  {
   "attachments": {},
   "cell_type": "markdown",
   "id": "9133e3fe",
   "metadata": {},
   "source": [
    "### Задание 2.3"
   ]
  },
  {
   "cell_type": "code",
   "execution_count": 51,
   "id": "a599155c",
   "metadata": {},
   "outputs": [
    {
     "name": "stdout",
     "output_type": "stream",
     "text": [
      "          heights     weights       ages\n",
      "count   45.000000   45.000000  45.000000\n",
      "mean   178.888889   80.422222  49.133333\n",
      "std      8.501931    8.438249  10.674098\n",
      "min    156.000000   64.000000  21.000000\n",
      "25%    174.000000   75.000000  45.000000\n",
      "50%    180.000000   80.000000  53.000000\n",
      "75%    183.000000   84.000000  55.000000\n",
      "max    199.000000  110.000000  64.000000\n"
     ]
    }
   ],
   "source": [
    "\n",
    "import pandas as pd \n",
    "\n",
    "heights = [188, 172, 187, 161, 183, 172, 185, 163, 173, 183, 174, 174, 175,\n",
    "178, 183, 195, 178, 173, 174, 183, 174, 181, 162, 180, 170, 175, 182, 180, 183,\n",
    "178, 182, 188, 175, 179, 184, 193, 182, 183, 175, 185, 182, 183, 156, 185, 199] \n",
    "weights = [86, 71, 89, 64, 83, 71, 86, 68, 73, 84, 73, 72, 75, 78, 85, 93, 78,\n",
    "70, 74, 80, 83, 82, 68, 80, 73, 78, 82, 81, 83, 79, 82, 86, 76, 77, 80, 103,\n",
    "82, 83, 77, 89, 80, 85, 82, 85, 110] \n",
    "ages = [58, 61, 54, 54, 58, 57, 63, 54, 37, 51, 34, 26, 50, 48, 45, 52, 56,\n",
    "46, 54, 28, 52, 47, 55, 55, 54, 42, 51, 56, 55, 51, 54, 32, 21, 62, 43, 55,\n",
    "56, 61, 53, 22, 64, 45, 54, 47, 38]\n",
    "\n",
    "data = {'heights': heights, 'weights': weights, 'ages': ages}\n",
    "\n",
    "df = pd.DataFrame(data)\n",
    "\n",
    "stat=df.describe()\n",
    "print(stat)"
   ]
  },
  {
   "cell_type": "code",
   "execution_count": null,
   "id": "822cea15",
   "metadata": {},
   "outputs": [],
   "source": []
  }
 ],
 "metadata": {
  "kernelspec": {
   "display_name": "Python 3",
   "language": "python",
   "name": "python3"
  },
  "language_info": {
   "codemirror_mode": {
    "name": "ipython",
    "version": 3
   },
   "file_extension": ".py",
   "mimetype": "text/x-python",
   "name": "python",
   "nbconvert_exporter": "python",
   "pygments_lexer": "ipython3",
   "version": "3.10.6"
  },
  "vscode": {
   "interpreter": {
    "hash": "46b0ae78ce8d2e6407bde63aa3aec804518bf8cfa8e47c740584ddbfbc18bb20"
   }
  }
 },
 "nbformat": 4,
 "nbformat_minor": 5
}
