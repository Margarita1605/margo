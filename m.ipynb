{
 "cells": [
  {
   "cell_type": "markdown",
   "id": "3fdfe89f",
   "metadata": {},
   "source": [
    "# Раздел 2"
   ]
  },
  {
   "cell_type": "markdown",
   "id": "4505d043",
   "metadata": {},
   "source": [
    "### Задание 2.1"
   ]
  },
  {
   "cell_type": "code",
   "execution_count": 1,
   "id": "f2d2ac94",
   "metadata": {},
   "outputs": [
    {
     "name": "stdout",
     "output_type": "stream",
     "text": [
      "сумма [[ 6.6 13.2 10.8]\n",
      " [ 7.2 12.9  3. ]\n",
      " [10.8  8.8 13.9]]\n",
      "разн [[-2.  -3.  -1.4]\n",
      " [-0.2  0.5  0. ]\n",
      " [ 6.  -2.6  4.5]]\n",
      "умнижение [[ 9.89 41.31 28.67]\n",
      " [12.95 41.54  2.25]\n",
      " [20.16 17.67 43.24]]\n",
      "деление [[0.53488372 0.62962963 0.7704918 ]\n",
      " [0.94594595 1.08064516 1.        ]\n",
      " [3.5        0.54385965 1.95744681]]\n"
     ]
    }
   ],
   "source": [
    "import numpy as np \n",
    "a = np.array([[2.3, 5.1, 4.7],  [3.5, 6.7, 1.5], [8.4, 3.1, 9.2]]) \n",
    "b = np.array([[4.3, 8.1, 6.1],  [3.7, 6.2, 1.5],  [2.4, 5.7, 4.7]])\n",
    "print('сумма',a+b)\n",
    "print('разн',a-b)\n",
    "print('умнижение',a*b)\n",
    "print('деление',a/b)"
   ]
  },
  {
   "cell_type": "code",
   "execution_count": null,
   "id": "cc9551b3",
   "metadata": {},
   "outputs": [],
   "source": []
  },
  {
   "cell_type": "code",
   "execution_count": null,
   "id": "6560709b",
   "metadata": {},
   "outputs": [],
   "source": []
  },
  {
   "cell_type": "code",
   "execution_count": null,
   "id": "f36a7f62",
   "metadata": {},
   "outputs": [],
   "source": []
  },
  {
   "cell_type": "code",
   "execution_count": null,
   "id": "a599155c",
   "metadata": {},
   "outputs": [],
   "source": []
  },
  {
   "cell_type": "code",
   "execution_count": null,
   "id": "822cea15",
   "metadata": {},
   "outputs": [],
   "source": []
  }
 ],
 "metadata": {
  "kernelspec": {
   "display_name": "Python 3 (ipykernel)",
   "language": "python",
   "name": "python3"
  },
  "language_info": {
   "codemirror_mode": {
    "name": "ipython",
    "version": 3
   },
   "file_extension": ".py",
   "mimetype": "text/x-python",
   "name": "python",
   "nbconvert_exporter": "python",
   "pygments_lexer": "ipython3",
   "version": "3.9.12"
  }
 },
 "nbformat": 4,
 "nbformat_minor": 5
}
